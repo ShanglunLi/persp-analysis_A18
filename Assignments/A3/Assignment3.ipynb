{
 "cells": [
  {
   "cell_type": "markdown",
   "metadata": {},
   "source": [
    "# Assignment 3"
   ]
  },
  {
   "cell_type": "markdown",
   "metadata": {},
   "source": [
    "## Problem 1.  \n",
    "See attached PDF."
   ]
  },
  {
   "cell_type": "markdown",
   "metadata": {},
   "source": [
    "## Problem 2. Simulating your Income."
   ]
  },
  {
   "cell_type": "markdown",
   "metadata": {},
   "source": [
    "#### (a)"
   ]
  },
  {
   "cell_type": "code",
   "execution_count": 1,
   "metadata": {},
   "outputs": [],
   "source": [
    "# Import initial packages\n",
    "import numpy as np\n",
    "import matplotlib.pyplot as plt\n",
    "import pandas as pd\n",
    "from matplotlib.ticker import MultipleLocator\n",
    "from random import randint\n",
    "import pylab \n",
    "import scipy.stats as stats"
   ]
  },
  {
   "cell_type": "code",
   "execution_count": 2,
   "metadata": {},
   "outputs": [],
   "source": [
    "def IncomeSimulate(p):\n",
    "    \n",
    "    \"\"\"\n",
    "    Requires a simulation profile, p, structured as a dictionary\n",
    "    \n",
    "    p = {\n",
    "        'sigma'       : 0.13,       # standard deviation of your income process\n",
    "        'inc0'        : 80000,      # average initial income\n",
    "        'rho'         : 0.4,        # the persistence\n",
    "        'g'           : 0.025,      # the long-run growth rate of income\n",
    "        'year_start'  : int(2020),  # start year\n",
    "        'period'      : 40,         # years to work\n",
    "        'num_draws'   : 10000       # simulations\n",
    "    }\n",
    "    \"\"\"    \n",
    "\n",
    "    # set random seed\n",
    "    np.random.seed(524)\n",
    "    \n",
    "    # generate errors\n",
    "    ln_errors = np.random.normal(0, p['sigma'], (p['period'], p['num_draws']))\n",
    "    \n",
    "    # create a matrix of dim (lf_years, num_draws)\n",
    "    ln_inc_mat = np.zeros((p['period'], p['num_draws']))\n",
    "\n",
    "    #fill the matrix\n",
    "    ln_inc_mat[0, :] = np.log(p['inc0']) + ln_errors[0, :]\n",
    "    \n",
    "    # loop and apply model\n",
    "    for yr in range(1, p['period']):\n",
    "        ln_inc_mat[yr, :] = (1 - p['rho']) * (np.log(p['inc0']) + p['g'] * yr) \\\n",
    "        + p['rho'] * ln_inc_mat[yr - 1, :] + ln_errors[yr, :]\n",
    "\n",
    "    inc_mat = np.exp(ln_inc_mat) # dealing with large numbers so put in terms of 10k's\n",
    "    return inc_mat\n",
    "    "
   ]
  },
  {
   "cell_type": "code",
   "execution_count": 3,
   "metadata": {},
   "outputs": [
    {
     "name": "stdout",
     "output_type": "stream",
     "text": [
      "[[ 66409.15585396  98274.13534194 101939.81109509 ...  98720.39690442\n",
      "   72404.51636886  68710.32820307]\n",
      " [ 80020.53020329  67383.19350738  84557.85626308 ...  68247.7770509\n",
      "   74518.33613244  80555.96068584]\n",
      " [ 75805.26636606  66134.42494243  91458.20304692 ...  67268.53350159\n",
      "   90012.42673528  80645.62355527]\n",
      " ...\n",
      " [272690.56519108 217821.73027242 184724.24512469 ... 159922.45424852\n",
      "  253961.68337673 209741.55004062]\n",
      " [231539.17420799 202509.15149494 197955.96626493 ... 199502.43481758\n",
      "  210951.71828579 205420.27946389]\n",
      " [197895.95201384 165115.10025278 172644.86927513 ... 248654.44847819\n",
      "  234237.14656466 221566.29879732]]\n"
     ]
    }
   ],
   "source": [
    "simulation_profile = {\n",
    "        'sigma'       : 0.13,       # standard deviation of your income process\n",
    "        'inc0'        : 80000,      # average initial income\n",
    "        'rho'         : 0.4,        # the persistence\n",
    "        'g'           : 0.025,      # the long-run growth rate of income\n",
    "        'year_start'  : int(2020),  # start year\n",
    "        'period'      : 40,         # years to work\n",
    "        'num_draws'   : 10000       # simulations\n",
    "}\n",
    "\n",
    "sim_inc = IncomeSimulate(simulation_profile)\n",
    "print(sim_inc)"
   ]
  },
  {
   "cell_type": "markdown",
   "metadata": {},
   "source": [
    "Now, after we simulated the income matrix, we are going to plot one of the income paths. "
   ]
  },
  {
   "cell_type": "code",
   "execution_count": 4,
   "metadata": {},
   "outputs": [
    {
     "data": {
      "text/plain": [
       "array([ 79176.37302043,  81779.65323099,  96362.25149757, 103946.9965005 ,\n",
       "        92273.24205658,  73238.05454692,  86593.54610353, 100935.8108114 ,\n",
       "       114279.66730903, 104243.19243207, 102736.96196658,  99789.72394317,\n",
       "       116889.0829077 , 117009.04738751, 121268.24025042, 135222.18835699,\n",
       "       135333.95836443, 102225.32858143,  98074.89797281, 108397.47930682,\n",
       "       129014.64459375,  95061.53295422, 135682.08273827, 139426.08822471,\n",
       "       161911.46002849, 146572.36751767, 152901.50585761, 161740.0310019 ,\n",
       "       191265.56786568, 150129.7883697 , 157178.42711608, 165736.79235411,\n",
       "       187811.33787301, 185644.31213458, 177647.42393792, 175134.0864884 ,\n",
       "       205355.09154611, 210966.58103084, 228853.31748421, 189600.84825915])"
      ]
     },
     "execution_count": 4,
     "metadata": {},
     "output_type": "execute_result"
    }
   ],
   "source": [
    "# Plot one of the income paths at random\n",
    "np.random.seed(123)\n",
    "random_income = np.array(sim_inc[:, randint(0, simulation_profile['num_draws'] - 1)])\n",
    "random_income"
   ]
  },
  {
   "cell_type": "code",
   "execution_count": 5,
   "metadata": {},
   "outputs": [
    {
     "data": {
      "text/plain": [
       "Text(0, 0.5, 'Annual income (\\\\$s)')"
      ]
     },
     "execution_count": 5,
     "metadata": {},
     "output_type": "execute_result"
    },
    {
     "data": {
      "image/png": "[encoded data removed]",
      "text/plain": [
       "<Figure size 432x288 with 1 Axes>"
      ]
     },
     "metadata": {
      "needs_background": "light"
     },
     "output_type": "display_data"
    }
   ],
   "source": [
    "%matplotlib inline\n",
    "p = simulation_profile\n",
    "year_vec = np.arange(p['year_start'], p['year_start'] + p['period'])\n",
    "fig, ax = plt.subplots()\n",
    "plt.plot(year_vec, random_income)\n",
    "minorLocator = MultipleLocator(1)\n",
    "ax.xaxis.set_minor_locator(minorLocator)\n",
    "plt.grid(b = True, which = 'major', color = '0.65', linestyle = '-')\n",
    "plt.title('Individual simulated lifetime income pick at random', fontsize = 10)\n",
    "plt.xlabel(r'Year $t$')\n",
    "plt.ylabel(r'Annual income (\\$s)')"
   ]
  },
  {
   "cell_type": "markdown",
   "metadata": {},
   "source": [
    "#### (b)"
   ]
  },
  {
   "cell_type": "code",
   "execution_count": 6,
   "metadata": {},
   "outputs": [
    {
     "data": {
      "text/plain": [
       "Text(0.5, 1.0, 'Number of Respondents in Income Bins')"
      ]
     },
     "execution_count": 6,
     "metadata": {},
     "output_type": "execute_result"
    },
    {
     "data": {
      "image/png": "[encoded data removed]",
      "text/plain": [
       "<Figure size 432x288 with 1 Axes>"
      ]
     },
     "metadata": {
      "needs_background": "light"
     },
     "output_type": "display_data"
    }
   ],
   "source": [
    "plt.hist(sim_inc[0,:], bins = 50)\n",
    "plt.xlabel(\"Year 2020 Initial Income Distribution\")\n",
    "plt.title(\"Number of Respondents in Income Bins\")"
   ]
  },
  {
   "cell_type": "code",
   "execution_count": 7,
   "metadata": {},
   "outputs": [
    {
     "data": {
      "image/png": "[encoded data removed]",
      "text/plain": [
       "<Figure size 432x288 with 1 Axes>"
      ]
     },
     "metadata": {
      "needs_background": "light"
     },
     "output_type": "display_data"
    }
   ],
   "source": [
    "stats.probplot(sim_inc[0,:], dist = \"norm\", plot = pylab)\n",
    "pylab.show()"
   ]
  },
  {
   "cell_type": "markdown",
   "metadata": {},
   "source": [
    "As we can see from the histogram, the distribution is roughly normal, although it is a little bit right skewed (concave up); it is just a minor issue."
   ]
  },
  {
   "cell_type": "markdown",
   "metadata": {},
   "source": [
    "Now, calculate the percentage of earn more than \\$100,000 in the first year."
   ]
  },
  {
   "cell_type": "code",
   "execution_count": 8,
   "metadata": {},
   "outputs": [
    {
     "data": {
      "text/plain": [
       "0.0417"
      ]
     },
     "execution_count": 8,
     "metadata": {},
     "output_type": "execute_result"
    }
   ],
   "source": [
    "# percentage more than 100,000\n",
    "len(sim_inc[0, :][sim_inc[0, :] > 100000]) / len(sim_inc[0, :])"
   ]
  },
  {
   "cell_type": "markdown",
   "metadata": {},
   "source": [
    "As we can see that 4.17\\% of the class will earn more than 100,000\\$ in the first year.  "
   ]
  },
  {
   "cell_type": "markdown",
   "metadata": {},
   "source": [
    "Next, we will calculate the percentage of earn less than \\$70,000."
   ]
  },
  {
   "cell_type": "code",
   "execution_count": 9,
   "metadata": {},
   "outputs": [
    {
     "data": {
      "text/plain": [
       "0.1512"
      ]
     },
     "execution_count": 9,
     "metadata": {},
     "output_type": "execute_result"
    }
   ],
   "source": [
    "# percentage more than 70,000\n",
    "len(sim_inc[0, :][sim_inc[0, :] < 70000]) / len(sim_inc[0, :])"
   ]
  },
  {
   "cell_type": "markdown",
   "metadata": {},
   "source": [
    "As we can see that 15.12\\% of the class will earn less than 70,000\\$ in the first year.  "
   ]
  },
  {
   "cell_type": "markdown",
   "metadata": {},
   "source": [
    "#### (c)"
   ]
  },
  {
   "cell_type": "code",
   "execution_count": 10,
   "metadata": {},
   "outputs": [
    {
     "data": {
      "text/plain": [
       "array([11, 11, 10, ..., 12, 11, 11])"
      ]
     },
     "execution_count": 10,
     "metadata": {},
     "output_type": "execute_result"
    }
   ],
   "source": [
    "'''\n",
    "Find the cumulative sum of 10% of the annual income and calculate \n",
    "the number of year to pay the debt\n",
    "'''\n",
    "yr_debt = []\n",
    "for i in range(p['num_draws']):\n",
    "    cum = np.cumsum(sim_inc[:, i] * 0.1)\n",
    "    # the true number of years should be the index plus 1\n",
    "    a = np.where(cum >= 95000)[0][0] + 1 \n",
    "    yr_debt.append(a)\n",
    "yr_debt = np.array(yr_debt)\n",
    "yr_debt"
   ]
  },
  {
   "cell_type": "code",
   "execution_count": 11,
   "metadata": {},
   "outputs": [
    {
     "data": {
      "text/plain": [
       "{9, 10, 11, 12, 13}"
      ]
     },
     "execution_count": 11,
     "metadata": {},
     "output_type": "execute_result"
    }
   ],
   "source": [
    "# find how many unique number of years in the array\n",
    "s = set(yr_debt)\n",
    "s"
   ]
  },
  {
   "cell_type": "code",
   "execution_count": 12,
   "metadata": {},
   "outputs": [
    {
     "data": {
      "text/plain": [
       "Text(0.5, 1.0, 'Histogram of year people complete their debt')"
      ]
     },
     "execution_count": 12,
     "metadata": {},
     "output_type": "execute_result"
    },
    {
     "data": {
      "image/png": "[encoded data removed]",
      "text/plain": [
       "<Figure size 432x288 with 1 Axes>"
      ]
     },
     "metadata": {
      "needs_background": "light"
     },
     "output_type": "display_data"
    }
   ],
   "source": [
    "plt.hist(yr_debt, bins = np.arange(min(s) - 0.5, max(s) + 1.5))\n",
    "plt.xlabel(\"How many years can people complete their debt\")\n",
    "plt.title(\"Histogram of year people complete their debt\")"
   ]
  },
  {
   "cell_type": "markdown",
   "metadata": {},
   "source": [
    "Next, we will calculate the percentage of the simulations are able to pay off the loan in 10 years:"
   ]
  },
  {
   "cell_type": "code",
   "execution_count": 13,
   "metadata": {},
   "outputs": [
    {
     "data": {
      "text/plain": [
       "0.1678"
      ]
     },
     "execution_count": 13,
     "metadata": {},
     "output_type": "execute_result"
    }
   ],
   "source": [
    "# Find percentage\n",
    "p = len(yr_debt[yr_debt  <= 10]) / len(yr_debt)\n",
    "p"
   ]
  },
  {
   "cell_type": "markdown",
   "metadata": {},
   "source": [
    "As we can see from the output, 16.78\\% of the simulations are able to pay off their debt."
   ]
  },
  {
   "cell_type": "markdown",
   "metadata": {},
   "source": [
    "#### (d)"
   ]
  },
  {
   "cell_type": "code",
   "execution_count": 14,
   "metadata": {},
   "outputs": [
    {
     "name": "stdout",
     "output_type": "stream",
     "text": [
      "[[ 70550.46142451 117783.33011091 123561.20729139 ... 118483.24080508\n",
      "   78992.81966812  73764.25171169]\n",
      " [ 89615.63768821  71575.56495871  96317.75493523 ...  72778.88084775\n",
      "   81644.3347736   90400.57899801]\n",
      " [ 82955.30101689  69396.06916251 106035.55593099 ...  70956.3661129\n",
      "  103848.93176006  89949.09077038]\n",
      " ...\n",
      " [338309.11761165 252187.52025149 203293.03644369 ... 168361.21927259\n",
      "  308250.29858492 240024.49205936]\n",
      " [271061.07048342 227502.32436192 220836.5697397  ... 223095.32811759\n",
      "  239983.96514044 231788.44418303]\n",
      " [219057.46748997 172865.33333479 183245.71710131 ... 295275.8618388\n",
      "  273090.00167035 253934.86273481]]\n"
     ]
    }
   ],
   "source": [
    "new_sim_profile = {\n",
    "        'sigma'       : 0.17,       # standard deviation of your income process\n",
    "        'inc0'        : 90000,      # average initial income\n",
    "        'rho'         : 0.4,        # the persistence\n",
    "        'g'           : 0.025,      # the long-run growth rate of income\n",
    "        'year_start'  : int(2020),  # start year\n",
    "        'period'      : 40,         # years to work\n",
    "        'num_draws'   : 10000       # simulations\n",
    "}\n",
    "\n",
    "new_sim_inc = IncomeSimulate(new_sim_profile)\n",
    "print(new_sim_inc)"
   ]
  },
  {
   "cell_type": "code",
   "execution_count": 15,
   "metadata": {},
   "outputs": [
    {
     "data": {
      "text/plain": [
       "array([10, 10,  9, ..., 11, 10, 10])"
      ]
     },
     "execution_count": 15,
     "metadata": {},
     "output_type": "execute_result"
    }
   ],
   "source": [
    "'''\n",
    "Find the cumulative sum of 10\\% of the annual income and calculate \n",
    "the number of year to pay the debt\n",
    "'''\n",
    "new_yr_debt = []\n",
    "for i in range(new_sim_profile['num_draws']):\n",
    "    cum = np.cumsum(new_sim_inc[:, i] * 0.1)\n",
    "    # the true number of years should be the index plus 1\n",
    "    a = np.where(cum >= 95000)[0][0] + 1 \n",
    "    new_yr_debt.append(a)\n",
    "new_yr_debt = np.array(new_yr_debt)\n",
    "new_yr_debt"
   ]
  },
  {
   "cell_type": "code",
   "execution_count": 16,
   "metadata": {},
   "outputs": [
    {
     "data": {
      "text/plain": [
       "{7, 8, 9, 10, 11, 12, 13}"
      ]
     },
     "execution_count": 16,
     "metadata": {},
     "output_type": "execute_result"
    }
   ],
   "source": [
    "# find how many unique number of years in the array\n",
    "s = set(new_yr_debt)\n",
    "s"
   ]
  },
  {
   "cell_type": "code",
   "execution_count": 17,
   "metadata": {},
   "outputs": [
    {
     "data": {
      "text/plain": [
       "Text(0.5, 1.0, 'Histogram of year people complete their debt')"
      ]
     },
     "execution_count": 17,
     "metadata": {},
     "output_type": "execute_result"
    },
    {
     "data": {
      "image/png": "[encoded data removed]",
      "text/plain": [
       "<Figure size 432x288 with 1 Axes>"
      ]
     },
     "metadata": {
      "needs_background": "light"
     },
     "output_type": "display_data"
    }
   ],
   "source": [
    "plt.hist(new_yr_debt, bins = np.arange(min(s) - 0.5, max(s) + 1.5))\n",
    "plt.xlabel(\"How many years can people complete their debt\")\n",
    "plt.title(\"Histogram of year people complete their debt\")"
   ]
  },
  {
   "cell_type": "markdown",
   "metadata": {},
   "source": [
    "Next, we will calculate the percentage of the simulations are able to pay off the loan in 10 years:"
   ]
  },
  {
   "cell_type": "code",
   "execution_count": 18,
   "metadata": {},
   "outputs": [
    {
     "data": {
      "text/plain": [
       "0.7602"
      ]
     },
     "execution_count": 18,
     "metadata": {},
     "output_type": "execute_result"
    }
   ],
   "source": [
    "# Find percentage\n",
    "p = len(new_yr_debt[new_yr_debt  <= 10]) / len(new_yr_debt)\n",
    "p"
   ]
  },
  {
   "cell_type": "markdown",
   "metadata": {},
   "source": [
    "As we can see from the output, 76.02\\% of the simulations are able to pay off their debt."
   ]
  }
 ],
 "metadata": {
  "kernelspec": {
   "display_name": "Python 3",
   "language": "python",
   "name": "python3"
  },
  "language_info": {
   "codemirror_mode": {
    "name": "ipython",
    "version": 3
   },
   "file_extension": ".py",
   "mimetype": "text/x-python",
   "name": "python",
   "nbconvert_exporter": "python",
   "pygments_lexer": "ipython3",
   "version": "3.6.6"
  }
 },
 "nbformat": 4,
 "nbformat_minor": 1
}
